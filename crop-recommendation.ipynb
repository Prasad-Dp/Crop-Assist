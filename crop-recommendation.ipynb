{
 "cells": [
  {
   "cell_type": "code",
   "execution_count": 78,
   "metadata": {
    "execution": {
     "iopub.execute_input": "2022-04-17T18:18:21.720157Z",
     "iopub.status.busy": "2022-04-17T18:18:21.719378Z",
     "iopub.status.idle": "2022-04-17T18:18:22.868295Z",
     "shell.execute_reply": "2022-04-17T18:18:22.867315Z",
     "shell.execute_reply.started": "2022-04-17T18:18:21.720051Z"
    }
   },
   "outputs": [],
   "source": [
    "import pandas as pd \n",
    "import numpy as np\n",
    "import matplotlib.pyplot as plt\n",
    "import seaborn as sns\n",
    "from ipywidgets import interact\n",
    "import pickle"
   ]
  },
  {
   "cell_type": "code",
   "execution_count": 79,
   "metadata": {
    "execution": {
     "iopub.execute_input": "2022-04-17T18:18:22.870161Z",
     "iopub.status.busy": "2022-04-17T18:18:22.869939Z",
     "iopub.status.idle": "2022-04-17T18:18:22.890523Z",
     "shell.execute_reply": "2022-04-17T18:18:22.889809Z",
     "shell.execute_reply.started": "2022-04-17T18:18:22.870135Z"
    }
   },
   "outputs": [],
   "source": [
    "df = pd.read_csv(\"utils\\data.csv\")"
   ]
  },
  {
   "cell_type": "code",
   "execution_count": 80,
   "metadata": {
    "execution": {
     "iopub.execute_input": "2022-04-17T18:18:22.892156Z",
     "iopub.status.busy": "2022-04-17T18:18:22.891486Z",
     "iopub.status.idle": "2022-04-17T18:18:22.922949Z",
     "shell.execute_reply": "2022-04-17T18:18:22.921999Z",
     "shell.execute_reply.started": "2022-04-17T18:18:22.892118Z"
    }
   },
   "outputs": [
    {
     "data": {
      "text/html": [
       "<div>\n",
       "<style scoped>\n",
       "    .dataframe tbody tr th:only-of-type {\n",
       "        vertical-align: middle;\n",
       "    }\n",
       "\n",
       "    .dataframe tbody tr th {\n",
       "        vertical-align: top;\n",
       "    }\n",
       "\n",
       "    .dataframe thead th {\n",
       "        text-align: right;\n",
       "    }\n",
       "</style>\n",
       "<table border=\"1\" class=\"dataframe\">\n",
       "  <thead>\n",
       "    <tr style=\"text-align: right;\">\n",
       "      <th></th>\n",
       "      <th>N</th>\n",
       "      <th>P</th>\n",
       "      <th>K</th>\n",
       "      <th>temperature</th>\n",
       "      <th>humidity</th>\n",
       "      <th>ph</th>\n",
       "      <th>rainfall</th>\n",
       "      <th>label</th>\n",
       "    </tr>\n",
       "  </thead>\n",
       "  <tbody>\n",
       "    <tr>\n",
       "      <th>0</th>\n",
       "      <td>90</td>\n",
       "      <td>42</td>\n",
       "      <td>43</td>\n",
       "      <td>20.879744</td>\n",
       "      <td>82.002744</td>\n",
       "      <td>6.502985</td>\n",
       "      <td>202.935536</td>\n",
       "      <td>rice</td>\n",
       "    </tr>\n",
       "    <tr>\n",
       "      <th>1</th>\n",
       "      <td>85</td>\n",
       "      <td>58</td>\n",
       "      <td>41</td>\n",
       "      <td>21.770462</td>\n",
       "      <td>80.319644</td>\n",
       "      <td>7.038096</td>\n",
       "      <td>226.655537</td>\n",
       "      <td>rice</td>\n",
       "    </tr>\n",
       "    <tr>\n",
       "      <th>2</th>\n",
       "      <td>60</td>\n",
       "      <td>55</td>\n",
       "      <td>44</td>\n",
       "      <td>23.004459</td>\n",
       "      <td>82.320763</td>\n",
       "      <td>7.840207</td>\n",
       "      <td>263.964248</td>\n",
       "      <td>rice</td>\n",
       "    </tr>\n",
       "    <tr>\n",
       "      <th>3</th>\n",
       "      <td>74</td>\n",
       "      <td>35</td>\n",
       "      <td>40</td>\n",
       "      <td>26.491096</td>\n",
       "      <td>80.158363</td>\n",
       "      <td>6.980401</td>\n",
       "      <td>242.864034</td>\n",
       "      <td>rice</td>\n",
       "    </tr>\n",
       "    <tr>\n",
       "      <th>4</th>\n",
       "      <td>78</td>\n",
       "      <td>42</td>\n",
       "      <td>42</td>\n",
       "      <td>20.130175</td>\n",
       "      <td>81.604873</td>\n",
       "      <td>7.628473</td>\n",
       "      <td>262.717340</td>\n",
       "      <td>rice</td>\n",
       "    </tr>\n",
       "  </tbody>\n",
       "</table>\n",
       "</div>"
      ],
      "text/plain": [
       "    N   P   K  temperature   humidity        ph    rainfall label\n",
       "0  90  42  43    20.879744  82.002744  6.502985  202.935536  rice\n",
       "1  85  58  41    21.770462  80.319644  7.038096  226.655537  rice\n",
       "2  60  55  44    23.004459  82.320763  7.840207  263.964248  rice\n",
       "3  74  35  40    26.491096  80.158363  6.980401  242.864034  rice\n",
       "4  78  42  42    20.130175  81.604873  7.628473  262.717340  rice"
      ]
     },
     "execution_count": 80,
     "metadata": {},
     "output_type": "execute_result"
    }
   ],
   "source": [
    "df.head(5)"
   ]
  },
  {
   "cell_type": "code",
   "execution_count": 81,
   "metadata": {
    "execution": {
     "iopub.execute_input": "2022-04-17T18:18:22.926167Z",
     "iopub.status.busy": "2022-04-17T18:18:22.925232Z",
     "iopub.status.idle": "2022-04-17T18:18:22.933117Z",
     "shell.execute_reply": "2022-04-17T18:18:22.932212Z",
     "shell.execute_reply.started": "2022-04-17T18:18:22.926118Z"
    }
   },
   "outputs": [
    {
     "data": {
      "text/plain": [
       "(2200, 8)"
      ]
     },
     "execution_count": 81,
     "metadata": {},
     "output_type": "execute_result"
    }
   ],
   "source": [
    "df.shape"
   ]
  },
  {
   "cell_type": "code",
   "execution_count": 82,
   "metadata": {
    "execution": {
     "iopub.execute_input": "2022-04-17T18:18:22.935336Z",
     "iopub.status.busy": "2022-04-17T18:18:22.934538Z",
     "iopub.status.idle": "2022-04-17T18:18:22.946373Z",
     "shell.execute_reply": "2022-04-17T18:18:22.945325Z",
     "shell.execute_reply.started": "2022-04-17T18:18:22.935288Z"
    }
   },
   "outputs": [
    {
     "data": {
      "text/plain": [
       "(2200, 8)"
      ]
     },
     "execution_count": 82,
     "metadata": {},
     "output_type": "execute_result"
    }
   ],
   "source": [
    "df.shape"
   ]
  },
  {
   "cell_type": "code",
   "execution_count": 83,
   "metadata": {
    "execution": {
     "iopub.execute_input": "2022-04-17T18:18:22.948561Z",
     "iopub.status.busy": "2022-04-17T18:18:22.948025Z",
     "iopub.status.idle": "2022-04-17T18:18:22.979024Z",
     "shell.execute_reply": "2022-04-17T18:18:22.978108Z",
     "shell.execute_reply.started": "2022-04-17T18:18:22.948515Z"
    }
   },
   "outputs": [
    {
     "name": "stdout",
     "output_type": "stream",
     "text": [
      "<class 'pandas.core.frame.DataFrame'>\n",
      "RangeIndex: 2200 entries, 0 to 2199\n",
      "Data columns (total 8 columns):\n",
      " #   Column       Non-Null Count  Dtype  \n",
      "---  ------       --------------  -----  \n",
      " 0   N            2200 non-null   int64  \n",
      " 1   P            2200 non-null   int64  \n",
      " 2   K            2200 non-null   int64  \n",
      " 3   temperature  2200 non-null   float64\n",
      " 4   humidity     2200 non-null   float64\n",
      " 5   ph           2200 non-null   float64\n",
      " 6   rainfall     2200 non-null   float64\n",
      " 7   label        2200 non-null   object \n",
      "dtypes: float64(4), int64(3), object(1)\n",
      "memory usage: 137.6+ KB\n"
     ]
    }
   ],
   "source": [
    "df.info()"
   ]
  },
  {
   "cell_type": "code",
   "execution_count": 84,
   "metadata": {},
   "outputs": [
    {
     "data": {
      "text/plain": [
       "N                      0\n",
       "P                      5\n",
       "K                      5\n",
       "temperature     8.825675\n",
       "humidity        14.25804\n",
       "ph              3.504752\n",
       "rainfall       20.211267\n",
       "label              apple\n",
       "dtype: object"
      ]
     },
     "execution_count": 84,
     "metadata": {},
     "output_type": "execute_result"
    }
   ],
   "source": [
    "df.min()"
   ]
  },
  {
   "cell_type": "code",
   "execution_count": 85,
   "metadata": {},
   "outputs": [
    {
     "data": {
      "text/plain": [
       "N                     140\n",
       "P                     145\n",
       "K                     205\n",
       "temperature     43.675493\n",
       "humidity        99.981876\n",
       "ph               9.935091\n",
       "rainfall       298.560117\n",
       "label          watermelon\n",
       "dtype: object"
      ]
     },
     "execution_count": 85,
     "metadata": {},
     "output_type": "execute_result"
    }
   ],
   "source": [
    "df.max()"
   ]
  },
  {
   "cell_type": "code",
   "execution_count": 86,
   "metadata": {
    "execution": {
     "iopub.execute_input": "2022-04-17T18:18:22.981132Z",
     "iopub.status.busy": "2022-04-17T18:18:22.98064Z",
     "iopub.status.idle": "2022-04-17T18:18:22.992454Z",
     "shell.execute_reply": "2022-04-17T18:18:22.991461Z",
     "shell.execute_reply.started": "2022-04-17T18:18:22.981087Z"
    }
   },
   "outputs": [
    {
     "data": {
      "text/plain": [
       "N              0\n",
       "P              0\n",
       "K              0\n",
       "temperature    0\n",
       "humidity       0\n",
       "ph             0\n",
       "rainfall       0\n",
       "label          0\n",
       "dtype: int64"
      ]
     },
     "execution_count": 86,
     "metadata": {},
     "output_type": "execute_result"
    }
   ],
   "source": [
    "df.isnull().sum()"
   ]
  },
  {
   "cell_type": "code",
   "execution_count": 87,
   "metadata": {
    "execution": {
     "iopub.execute_input": "2022-04-17T18:18:22.99481Z",
     "iopub.status.busy": "2022-04-17T18:18:22.994288Z",
     "iopub.status.idle": "2022-04-17T18:18:23.002456Z",
     "shell.execute_reply": "2022-04-17T18:18:23.001531Z",
     "shell.execute_reply.started": "2022-04-17T18:18:22.994764Z"
    }
   },
   "outputs": [
    {
     "data": {
      "text/plain": [
       "array(['rice', 'maize', 'chickpea', 'kidneybeans', 'pigeonpeas',\n",
       "       'mothbeans', 'mungbean', 'blackgram', 'lentil', 'pomegranate',\n",
       "       'banana', 'mango', 'grapes', 'watermelon', 'muskmelon', 'apple',\n",
       "       'orange', 'papaya', 'coconut', 'cotton', 'jute', 'coffee'],\n",
       "      dtype=object)"
      ]
     },
     "execution_count": 87,
     "metadata": {},
     "output_type": "execute_result"
    }
   ],
   "source": [
    "# lets check the corps present in this dataset\n",
    "df['label'].unique()"
   ]
  },
  {
   "cell_type": "code",
   "execution_count": 88,
   "metadata": {
    "execution": {
     "iopub.execute_input": "2022-04-17T18:18:23.004648Z",
     "iopub.status.busy": "2022-04-17T18:18:23.004098Z",
     "iopub.status.idle": "2022-04-17T18:18:23.019454Z",
     "shell.execute_reply": "2022-04-17T18:18:23.018511Z",
     "shell.execute_reply.started": "2022-04-17T18:18:23.004602Z"
    }
   },
   "outputs": [
    {
     "name": "stdout",
     "output_type": "stream",
     "text": [
      "Average ratio of Nitrogen in soil : 50.551818\n",
      "Average ratio of phasphorous in soil : 53.362727\n",
      "Average ratio of potasium in soil : 48.149091\n",
      "Average ratio of temperature in soil : 25.616244\n",
      "Average ratio of humidity in soil : 71.481779\n",
      "Average ratio of ph in soil : 6.469480\n",
      "Average ratio of rainfall in soil : 103.463655\n"
     ]
    }
   ],
   "source": [
    "#  lets check summry of all dataset\n",
    "print(\"Average ratio of Nitrogen in soil : {0:2f}\".format(df['N'].mean()))\n",
    "print(\"Average ratio of phasphorous in soil : {0:2f}\".format(df['P'].mean()))\n",
    "print(\"Average ratio of potasium in soil : {0:2f}\".format(df['K'].mean()))\n",
    "print(\"Average ratio of temperature in soil : {0:2f}\".format(df['temperature'].mean()))\n",
    "print(\"Average ratio of humidity in soil : {0:2f}\".format(df['humidity'].mean()))\n",
    "print(\"Average ratio of ph in soil : {0:2f}\".format(df['ph'].mean()))\n",
    "print(\"Average ratio of rainfall in soil : {0:2f}\".format(df['rainfall'].mean()))"
   ]
  },
  {
   "cell_type": "code",
   "execution_count": 89,
   "metadata": {
    "execution": {
     "iopub.execute_input": "2022-04-17T18:18:23.093524Z",
     "iopub.status.busy": "2022-04-17T18:18:23.090389Z",
     "iopub.status.idle": "2022-04-17T18:18:23.102727Z",
     "shell.execute_reply": "2022-04-17T18:18:23.101812Z",
     "shell.execute_reply.started": "2022-04-17T18:18:23.093468Z"
    }
   },
   "outputs": [
    {
     "data": {
      "text/plain": [
       "['rice',\n",
       " 'maize',\n",
       " 'jute',\n",
       " 'cotton',\n",
       " 'coconut',\n",
       " 'papaya',\n",
       " 'orange',\n",
       " 'apple',\n",
       " 'muskmelon',\n",
       " 'watermelon',\n",
       " 'grapes',\n",
       " 'mango',\n",
       " 'banana',\n",
       " 'pomegranate',\n",
       " 'lentil',\n",
       " 'blackgram',\n",
       " 'mungbean',\n",
       " 'mothbeans',\n",
       " 'pigeonpeas',\n",
       " 'kidneybeans',\n",
       " 'chickpea',\n",
       " 'coffee']"
      ]
     },
     "execution_count": 89,
     "metadata": {},
     "output_type": "execute_result"
    }
   ],
   "source": [
    "crops = list(df['label'].value_counts().index)\n",
    "crops"
   ]
  },
  {
   "cell_type": "code",
   "execution_count": 124,
   "metadata": {
    "execution": {
     "iopub.execute_input": "2022-04-17T18:18:23.105109Z",
     "iopub.status.busy": "2022-04-17T18:18:23.104798Z",
     "iopub.status.idle": "2022-04-17T18:18:23.117412Z",
     "shell.execute_reply": "2022-04-17T18:18:23.116344Z",
     "shell.execute_reply.started": "2022-04-17T18:18:23.105077Z"
    }
   },
   "outputs": [
    {
     "data": {
      "text/html": [
       "<div>\n",
       "<style scoped>\n",
       "    .dataframe tbody tr th:only-of-type {\n",
       "        vertical-align: middle;\n",
       "    }\n",
       "\n",
       "    .dataframe tbody tr th {\n",
       "        vertical-align: top;\n",
       "    }\n",
       "\n",
       "    .dataframe thead th {\n",
       "        text-align: right;\n",
       "    }\n",
       "</style>\n",
       "<table border=\"1\" class=\"dataframe\">\n",
       "  <thead>\n",
       "    <tr style=\"text-align: right;\">\n",
       "      <th></th>\n",
       "      <th>N</th>\n",
       "      <th>P</th>\n",
       "      <th>K</th>\n",
       "      <th>temperature</th>\n",
       "      <th>humidity</th>\n",
       "      <th>ph</th>\n",
       "      <th>rainfall</th>\n",
       "      <th>label</th>\n",
       "    </tr>\n",
       "  </thead>\n",
       "  <tbody>\n",
       "    <tr>\n",
       "      <th>0</th>\n",
       "      <td>90</td>\n",
       "      <td>42</td>\n",
       "      <td>43</td>\n",
       "      <td>20.879744</td>\n",
       "      <td>82.002744</td>\n",
       "      <td>6.502985</td>\n",
       "      <td>202.935536</td>\n",
       "      <td>rice</td>\n",
       "    </tr>\n",
       "    <tr>\n",
       "      <th>1</th>\n",
       "      <td>85</td>\n",
       "      <td>58</td>\n",
       "      <td>41</td>\n",
       "      <td>21.770462</td>\n",
       "      <td>80.319644</td>\n",
       "      <td>7.038096</td>\n",
       "      <td>226.655537</td>\n",
       "      <td>rice</td>\n",
       "    </tr>\n",
       "    <tr>\n",
       "      <th>2</th>\n",
       "      <td>60</td>\n",
       "      <td>55</td>\n",
       "      <td>44</td>\n",
       "      <td>23.004459</td>\n",
       "      <td>82.320763</td>\n",
       "      <td>7.840207</td>\n",
       "      <td>263.964248</td>\n",
       "      <td>rice</td>\n",
       "    </tr>\n",
       "    <tr>\n",
       "      <th>3</th>\n",
       "      <td>74</td>\n",
       "      <td>35</td>\n",
       "      <td>40</td>\n",
       "      <td>26.491096</td>\n",
       "      <td>80.158363</td>\n",
       "      <td>6.980401</td>\n",
       "      <td>242.864034</td>\n",
       "      <td>rice</td>\n",
       "    </tr>\n",
       "    <tr>\n",
       "      <th>4</th>\n",
       "      <td>78</td>\n",
       "      <td>42</td>\n",
       "      <td>42</td>\n",
       "      <td>20.130175</td>\n",
       "      <td>81.604873</td>\n",
       "      <td>7.628473</td>\n",
       "      <td>262.717340</td>\n",
       "      <td>rice</td>\n",
       "    </tr>\n",
       "    <tr>\n",
       "      <th>...</th>\n",
       "      <td>...</td>\n",
       "      <td>...</td>\n",
       "      <td>...</td>\n",
       "      <td>...</td>\n",
       "      <td>...</td>\n",
       "      <td>...</td>\n",
       "      <td>...</td>\n",
       "      <td>...</td>\n",
       "    </tr>\n",
       "    <tr>\n",
       "      <th>95</th>\n",
       "      <td>88</td>\n",
       "      <td>46</td>\n",
       "      <td>42</td>\n",
       "      <td>22.683191</td>\n",
       "      <td>83.463583</td>\n",
       "      <td>6.604993</td>\n",
       "      <td>194.265172</td>\n",
       "      <td>rice</td>\n",
       "    </tr>\n",
       "    <tr>\n",
       "      <th>96</th>\n",
       "      <td>93</td>\n",
       "      <td>47</td>\n",
       "      <td>37</td>\n",
       "      <td>21.533463</td>\n",
       "      <td>82.140041</td>\n",
       "      <td>6.500343</td>\n",
       "      <td>295.924880</td>\n",
       "      <td>rice</td>\n",
       "    </tr>\n",
       "    <tr>\n",
       "      <th>97</th>\n",
       "      <td>60</td>\n",
       "      <td>55</td>\n",
       "      <td>45</td>\n",
       "      <td>21.408658</td>\n",
       "      <td>83.329319</td>\n",
       "      <td>5.935745</td>\n",
       "      <td>287.576694</td>\n",
       "      <td>rice</td>\n",
       "    </tr>\n",
       "    <tr>\n",
       "      <th>98</th>\n",
       "      <td>78</td>\n",
       "      <td>35</td>\n",
       "      <td>44</td>\n",
       "      <td>26.543481</td>\n",
       "      <td>84.673536</td>\n",
       "      <td>7.072656</td>\n",
       "      <td>183.622266</td>\n",
       "      <td>rice</td>\n",
       "    </tr>\n",
       "    <tr>\n",
       "      <th>99</th>\n",
       "      <td>65</td>\n",
       "      <td>37</td>\n",
       "      <td>40</td>\n",
       "      <td>23.359054</td>\n",
       "      <td>83.595123</td>\n",
       "      <td>5.333323</td>\n",
       "      <td>188.413665</td>\n",
       "      <td>rice</td>\n",
       "    </tr>\n",
       "  </tbody>\n",
       "</table>\n",
       "<p>100 rows × 8 columns</p>\n",
       "</div>"
      ],
      "text/plain": [
       "     N   P   K  temperature   humidity        ph    rainfall label\n",
       "0   90  42  43    20.879744  82.002744  6.502985  202.935536  rice\n",
       "1   85  58  41    21.770462  80.319644  7.038096  226.655537  rice\n",
       "2   60  55  44    23.004459  82.320763  7.840207  263.964248  rice\n",
       "3   74  35  40    26.491096  80.158363  6.980401  242.864034  rice\n",
       "4   78  42  42    20.130175  81.604873  7.628473  262.717340  rice\n",
       "..  ..  ..  ..          ...        ...       ...         ...   ...\n",
       "95  88  46  42    22.683191  83.463583  6.604993  194.265172  rice\n",
       "96  93  47  37    21.533463  82.140041  6.500343  295.924880  rice\n",
       "97  60  55  45    21.408658  83.329319  5.935745  287.576694  rice\n",
       "98  78  35  44    26.543481  84.673536  7.072656  183.622266  rice\n",
       "99  65  37  40    23.359054  83.595123  5.333323  188.413665  rice\n",
       "\n",
       "[100 rows x 8 columns]"
      ]
     },
     "execution_count": 124,
     "metadata": {},
     "output_type": "execute_result"
    }
   ],
   "source": [
    "y = df[df['label']=='rice']\n",
    "y"
   ]
  },
  {
   "cell_type": "code",
   "execution_count": 92,
   "metadata": {
    "execution": {
     "iopub.execute_input": "2022-04-17T18:18:23.322781Z",
     "iopub.status.busy": "2022-04-17T18:18:23.322107Z",
     "iopub.status.idle": "2022-04-17T18:18:23.330473Z",
     "shell.execute_reply": "2022-04-17T18:18:23.329587Z",
     "shell.execute_reply.started": "2022-04-17T18:18:23.322733Z"
    }
   },
   "outputs": [
    {
     "data": {
      "text/plain": [
       "array(['rice', 'maize', 'chickpea', 'kidneybeans', 'pigeonpeas',\n",
       "       'mothbeans', 'mungbean', 'blackgram', 'lentil', 'pomegranate',\n",
       "       'banana', 'mango', 'grapes', 'watermelon', 'muskmelon', 'apple',\n",
       "       'orange', 'papaya', 'coconut', 'cotton', 'jute', 'coffee'],\n",
       "      dtype=object)"
      ]
     },
     "execution_count": 92,
     "metadata": {},
     "output_type": "execute_result"
    }
   ],
   "source": [
    "df['label'].unique()\n"
   ]
  },
  {
   "cell_type": "code",
   "execution_count": 93,
   "metadata": {
    "execution": {
     "iopub.execute_input": "2022-04-17T18:18:23.332893Z",
     "iopub.status.busy": "2022-04-17T18:18:23.332029Z",
     "iopub.status.idle": "2022-04-17T18:18:23.348754Z",
     "shell.execute_reply": "2022-04-17T18:18:23.347601Z",
     "shell.execute_reply.started": "2022-04-17T18:18:23.332847Z"
    }
   },
   "outputs": [
    {
     "data": {
      "text/plain": [
       "N               50.551818\n",
       "P               53.362727\n",
       "K               48.149091\n",
       "temperature     25.616244\n",
       "ph               6.469480\n",
       "humidity        71.481779\n",
       "rainfall       103.463655\n",
       "dtype: float64"
      ]
     },
     "execution_count": 93,
     "metadata": {},
     "output_type": "execute_result"
    }
   ],
   "source": [
    "# -----------------------------important \n",
    "conditions = ['N','P','K','temperature','ph','humidity','rainfall']\n",
    "df[conditions].mean()"
   ]
  },
  {
   "cell_type": "code",
   "execution_count": 94,
   "metadata": {
    "execution": {
     "iopub.execute_input": "2022-04-17T18:18:23.350197Z",
     "iopub.status.busy": "2022-04-17T18:18:23.349932Z",
     "iopub.status.idle": "2022-04-17T18:18:24.605025Z",
     "shell.execute_reply": "2022-04-17T18:18:24.603948Z",
     "shell.execute_reply.started": "2022-04-17T18:18:23.350156Z"
    }
   },
   "outputs": [
    {
     "name": "stderr",
     "output_type": "stream",
     "text": [
      "c:\\Users\\dp415\\anaconda3\\lib\\site-packages\\seaborn\\distributions.py:2619: FutureWarning: `distplot` is a deprecated function and will be removed in a future version. Please adapt your code to use either `displot` (a figure-level function with similar flexibility) or `histplot` (an axes-level function for histograms).\n",
      "  warnings.warn(msg, FutureWarning)\n",
      "c:\\Users\\dp415\\anaconda3\\lib\\site-packages\\seaborn\\distributions.py:2619: FutureWarning: `distplot` is a deprecated function and will be removed in a future version. Please adapt your code to use either `displot` (a figure-level function with similar flexibility) or `histplot` (an axes-level function for histograms).\n",
      "  warnings.warn(msg, FutureWarning)\n",
      "c:\\Users\\dp415\\anaconda3\\lib\\site-packages\\seaborn\\distributions.py:2619: FutureWarning: `distplot` is a deprecated function and will be removed in a future version. Please adapt your code to use either `displot` (a figure-level function with similar flexibility) or `histplot` (an axes-level function for histograms).\n",
      "  warnings.warn(msg, FutureWarning)\n",
      "c:\\Users\\dp415\\anaconda3\\lib\\site-packages\\seaborn\\distributions.py:2619: FutureWarning: `distplot` is a deprecated function and will be removed in a future version. Please adapt your code to use either `displot` (a figure-level function with similar flexibility) or `histplot` (an axes-level function for histograms).\n",
      "  warnings.warn(msg, FutureWarning)\n",
      "c:\\Users\\dp415\\anaconda3\\lib\\site-packages\\seaborn\\distributions.py:2619: FutureWarning: `distplot` is a deprecated function and will be removed in a future version. Please adapt your code to use either `displot` (a figure-level function with similar flexibility) or `histplot` (an axes-level function for histograms).\n",
      "  warnings.warn(msg, FutureWarning)\n",
      "c:\\Users\\dp415\\anaconda3\\lib\\site-packages\\seaborn\\distributions.py:2619: FutureWarning: `distplot` is a deprecated function and will be removed in a future version. Please adapt your code to use either `displot` (a figure-level function with similar flexibility) or `histplot` (an axes-level function for histograms).\n",
      "  warnings.warn(msg, FutureWarning)\n",
      "c:\\Users\\dp415\\anaconda3\\lib\\site-packages\\seaborn\\distributions.py:2619: FutureWarning: `distplot` is a deprecated function and will be removed in a future version. Please adapt your code to use either `displot` (a figure-level function with similar flexibility) or `histplot` (an axes-level function for histograms).\n",
      "  warnings.warn(msg, FutureWarning)\n"
     ]
    },
    {
     "data": {
      "image/png": "[encoded data removed]",
      "text/plain": [
       "<Figure size 720x720 with 7 Axes>"
      ]
     },
     "metadata": {
      "needs_background": "light"
     },
     "output_type": "display_data"
    }
   ],
   "source": [
    "plt.subplot(2,4,1)\n",
    "sns.distplot(df['P'],color='darkblue')\n",
    "plt.xlabel('Ratio of P',fontsize=12)\n",
    "plt.grid()\n",
    "\n",
    "plt.subplot(2,4,2)\n",
    "sns.distplot(df['N'],color='red')\n",
    "plt.xlabel('Ratio of N',fontsize=12)\n",
    "plt.grid()\n",
    "\n",
    "plt.subplot(2,4,3)\n",
    "sns.distplot(df['K'],color='darkblue')\n",
    "plt.xlabel('Ratio of potassium',fontsize=12)\n",
    "plt.grid()\n",
    "\n",
    "plt.subplot(2,4,4)\n",
    "sns.distplot(df[ 'temperature'],color='black')\n",
    "plt.xlabel('Ratio of temperature',fontsize=12)\n",
    "plt.grid()\n",
    "\n",
    "plt.subplot(2,4,5)\n",
    "sns.distplot(df['rainfall'],color='gray')\n",
    "plt.xlabel('Ratio of rainfall',fontsize=12)\n",
    "plt.grid()\n",
    "\n",
    "plt.subplot(2,4,6)\n",
    "sns.distplot(df['humidity'],color='lightgreen')\n",
    "plt.xlabel('Ratio of humidity',fontsize=12)\n",
    "plt.grid()\n",
    "\n",
    "plt.subplot(2,4,7)\n",
    "sns.distplot(df['ph'],color='darkgreen')\n",
    "plt.xlabel('Ratio of ph',fontsize=12)\n",
    "plt.grid()\n",
    "\n",
    "plt.suptitle(\"Distribution for Agriculture condition\",fontsize=20)\n",
    "plt.show()"
   ]
  },
  {
   "cell_type": "code",
   "execution_count": null,
   "metadata": {},
   "outputs": [],
   "source": []
  },
  {
   "cell_type": "code",
   "execution_count": 95,
   "metadata": {
    "execution": {
     "iopub.execute_input": "2022-04-17T18:18:24.606877Z",
     "iopub.status.busy": "2022-04-17T18:18:24.606538Z",
     "iopub.status.idle": "2022-04-17T18:18:24.634972Z",
     "shell.execute_reply": "2022-04-17T18:18:24.634347Z",
     "shell.execute_reply.started": "2022-04-17T18:18:24.606833Z"
    }
   },
   "outputs": [
    {
     "name": "stdout",
     "output_type": "stream",
     "text": [
      "some interesting patterns\n",
      "-------------------------\n",
      "crops which requires very High Ratio Nitrogen Content in soil: ['cotton']\n",
      "crops which requires very High Ratio phasphorous Content in soil: ['grapes' 'apple']\n",
      "crops which requires very High Ratio potassium Content in soil: ['grapes' 'apple']\n",
      "crops which requires very High Rainfall : ['rice' 'papaya' 'coconut']\n",
      "crops which requires very low temperature : ['grapes']\n",
      "crops which requires very HIgh temperature : ['grapes' 'papaya']\n",
      "crops which requires very low humidity : ['chickpea' 'kidneybeans']\n",
      "crops which requires very low ph : ['mothbeans']\n",
      "crops which requires very low ph : ['mothbeans']\n"
     ]
    }
   ],
   "source": [
    "print(\"some interesting patterns\")\n",
    "print(\"-------------------------\")\n",
    "print(\"crops which requires very High Ratio Nitrogen Content in soil:\",df[df['N']>120]['label'].unique())\n",
    "print(\"crops which requires very High Ratio phasphorous Content in soil:\",df[df['P']>100]['label'].unique())\n",
    "print(\"crops which requires very High Ratio potassium Content in soil:\",df[df['K']>200]['label'].unique())\n",
    "print(\"crops which requires very High Rainfall :\",df[df['rainfall']>200]['label'].unique())\n",
    "print(\"crops which requires very low temperature :\",df[df['temperature']<10]['label'].unique())\n",
    "print(\"crops which requires very HIgh temperature :\",df[df['temperature']>40]['label'].unique())\n",
    "print(\"crops which requires very low humidity :\",df[df['humidity']<20]['label'].unique())\n",
    "print(\"crops which requires very low ph :\",df[df['ph']<4]['label'].unique())\n",
    "print(\"crops which requires very low ph :\",df[df['ph']>9]['label'].unique())\n"
   ]
  },
  {
   "cell_type": "code",
   "execution_count": 96,
   "metadata": {
    "execution": {
     "iopub.execute_input": "2022-04-17T18:18:24.636482Z",
     "iopub.status.busy": "2022-04-17T18:18:24.635913Z",
     "iopub.status.idle": "2022-04-17T18:18:24.648025Z",
     "shell.execute_reply": "2022-04-17T18:18:24.647401Z",
     "shell.execute_reply.started": "2022-04-17T18:18:24.63645Z"
    }
   },
   "outputs": [
    {
     "name": "stdout",
     "output_type": "stream",
     "text": [
      "summer crops\n",
      "['pigeonpeas' 'mothbeans' 'blackgram' 'mango' 'grapes' 'orange' 'papaya']\n",
      "---------------------------\n",
      "Winter crops\n",
      "['maize' 'pigeonpeas' 'lentil' 'pomegranate' 'grapes' 'orange']\n",
      "---------------------------\n",
      "['rice' 'papaya' 'coconut']\n"
     ]
    }
   ],
   "source": [
    "print(\"summer crops\")\n",
    "print(df[(df['temperature'] > 30) & (df['humidity'] > 50)]['label'].unique())\n",
    "print('---------------------------')\n",
    "print(\"Winter crops\")\n",
    "print(df[(df['temperature'] < 20) & (df['humidity'] > 30)]['label'].unique())\n",
    "print('---------------------------')\n",
    "print(df[(df['rainfall'] > 200) & (df['humidity'] > 30)]['label'].unique())\n"
   ]
  },
  {
   "cell_type": "code",
   "execution_count": 97,
   "metadata": {},
   "outputs": [
    {
     "data": {
      "text/html": [
       "<div>\n",
       "<style scoped>\n",
       "    .dataframe tbody tr th:only-of-type {\n",
       "        vertical-align: middle;\n",
       "    }\n",
       "\n",
       "    .dataframe tbody tr th {\n",
       "        vertical-align: top;\n",
       "    }\n",
       "\n",
       "    .dataframe thead th {\n",
       "        text-align: right;\n",
       "    }\n",
       "</style>\n",
       "<table border=\"1\" class=\"dataframe\">\n",
       "  <thead>\n",
       "    <tr style=\"text-align: right;\">\n",
       "      <th></th>\n",
       "      <th>N</th>\n",
       "      <th>P</th>\n",
       "      <th>K</th>\n",
       "      <th>temperature</th>\n",
       "      <th>humidity</th>\n",
       "      <th>ph</th>\n",
       "      <th>rainfall</th>\n",
       "      <th>label</th>\n",
       "    </tr>\n",
       "  </thead>\n",
       "  <tbody>\n",
       "    <tr>\n",
       "      <th>0</th>\n",
       "      <td>90</td>\n",
       "      <td>42</td>\n",
       "      <td>43</td>\n",
       "      <td>20.879744</td>\n",
       "      <td>82.002744</td>\n",
       "      <td>6.502985</td>\n",
       "      <td>202.935536</td>\n",
       "      <td>rice</td>\n",
       "    </tr>\n",
       "    <tr>\n",
       "      <th>1</th>\n",
       "      <td>85</td>\n",
       "      <td>58</td>\n",
       "      <td>41</td>\n",
       "      <td>21.770462</td>\n",
       "      <td>80.319644</td>\n",
       "      <td>7.038096</td>\n",
       "      <td>226.655537</td>\n",
       "      <td>rice</td>\n",
       "    </tr>\n",
       "    <tr>\n",
       "      <th>2</th>\n",
       "      <td>60</td>\n",
       "      <td>55</td>\n",
       "      <td>44</td>\n",
       "      <td>23.004459</td>\n",
       "      <td>82.320763</td>\n",
       "      <td>7.840207</td>\n",
       "      <td>263.964248</td>\n",
       "      <td>rice</td>\n",
       "    </tr>\n",
       "  </tbody>\n",
       "</table>\n",
       "</div>"
      ],
      "text/plain": [
       "    N   P   K  temperature   humidity        ph    rainfall label\n",
       "0  90  42  43    20.879744  82.002744  6.502985  202.935536  rice\n",
       "1  85  58  41    21.770462  80.319644  7.038096  226.655537  rice\n",
       "2  60  55  44    23.004459  82.320763  7.840207  263.964248  rice"
      ]
     },
     "execution_count": 97,
     "metadata": {},
     "output_type": "execute_result"
    }
   ],
   "source": [
    "df.head(3)"
   ]
  },
  {
   "cell_type": "code",
   "execution_count": 98,
   "metadata": {
    "execution": {
     "iopub.execute_input": "2022-04-17T18:18:26.560152Z",
     "iopub.status.busy": "2022-04-17T18:18:26.559662Z",
     "iopub.status.idle": "2022-04-17T18:18:26.567718Z",
     "shell.execute_reply": "2022-04-17T18:18:26.566965Z",
     "shell.execute_reply.started": "2022-04-17T18:18:26.560117Z"
    }
   },
   "outputs": [
    {
     "name": "stdout",
     "output_type": "stream",
     "text": [
      "shape of x:  (2200, 7)\n",
      "shape of y:  (2200,)\n"
     ]
    }
   ],
   "source": [
    "#  lets split the Dataset for predictive Modeling \n",
    "\n",
    "y = df['label']\n",
    "x = df.drop(['label'],axis = 1)\n",
    "\n",
    "print('shape of x: ',x.shape)\n",
    "print('shape of y: ',y.shape)\n"
   ]
  },
  {
   "cell_type": "code",
   "execution_count": 99,
   "metadata": {
    "execution": {
     "iopub.execute_input": "2022-04-17T18:18:26.569368Z",
     "iopub.status.busy": "2022-04-17T18:18:26.568984Z",
     "iopub.status.idle": "2022-04-17T18:18:26.58183Z",
     "shell.execute_reply": "2022-04-17T18:18:26.581072Z",
     "shell.execute_reply.started": "2022-04-17T18:18:26.569326Z"
    }
   },
   "outputs": [
    {
     "name": "stdout",
     "output_type": "stream",
     "text": [
      "The shape of x_train (1760, 7)\n",
      "The shape of x_test (440, 7)\n",
      "The shape of y_train (1760,)\n",
      "The shape of y_test (440,)\n"
     ]
    }
   ],
   "source": [
    "# lets create training and testing sets for validation of Result\n",
    "from sklearn.model_selection import train_test_split\n",
    "\n",
    "x_train,x_test,y_train,y_test = train_test_split(x,y,test_size = 0.2,random_state=0)\n",
    "\n",
    "print('The shape of x_train', x_train.shape)\n",
    "print('The shape of x_test', x_test.shape)\n",
    "print('The shape of y_train', y_train.shape)\n",
    "print('The shape of y_test', y_test.shape)"
   ]
  },
  {
   "cell_type": "code",
   "execution_count": 100,
   "metadata": {},
   "outputs": [
    {
     "name": "stdout",
     "output_type": "stream",
     "text": [
      "        N    P    K  temperature   humidity        ph    rainfall\n",
      "1567   27  120  200    21.452787  90.745319  6.110219  116.703658\n",
      "2031   81   36   38    23.765547  87.983299  6.334838  150.316615\n",
      "2073   90   59   35    24.251335  89.864541  7.098228  175.174211\n",
      "1374   81   16   45    26.904357  86.254262  6.727468   59.759800\n",
      "279    47   80   77    17.182484  16.428918  7.561108   72.850173\n",
      "...   ...  ...  ...          ...        ...       ...         ...\n",
      "1033  102   71   48    28.654563  79.286937  5.695268  102.463378\n",
      "1731   34   68   51    27.347349  94.177567  6.687088   40.351531\n",
      "763    35   64   15    28.474423  63.536045  6.500145   69.527441\n",
      "835    39   65   23    25.434598  69.126134  7.685959   41.026829\n",
      "1653   14   22    9    17.249446  91.137728  6.543192  112.509052\n",
      "\n",
      "[1760 rows x 7 columns]\n",
      "1320    watermelon\n",
      "1367    watermelon\n",
      "1291        grapes\n",
      "264       chickpea\n",
      "728      blackgram\n",
      "           ...    \n",
      "446     pigeonpeas\n",
      "1005        banana\n",
      "1919        cotton\n",
      "708      blackgram\n",
      "1546         apple\n",
      "Name: label, Length: 440, dtype: object\n"
     ]
    }
   ],
   "source": [
    "print(x_train)\n",
    "print(y_test)"
   ]
  },
  {
   "cell_type": "code",
   "execution_count": 101,
   "metadata": {
    "execution": {
     "iopub.execute_input": "2022-04-17T18:18:26.583446Z",
     "iopub.status.busy": "2022-04-17T18:18:26.583075Z",
     "iopub.status.idle": "2022-04-17T18:18:26.589721Z",
     "shell.execute_reply": "2022-04-17T18:18:26.589026Z",
     "shell.execute_reply.started": "2022-04-17T18:18:26.583411Z"
    }
   },
   "outputs": [],
   "source": [
    "acc = []\n",
    "model = []"
   ]
  },
  {
   "cell_type": "markdown",
   "metadata": {},
   "source": [
    "# Decision Tree"
   ]
  },
  {
   "cell_type": "code",
   "execution_count": 102,
   "metadata": {
    "execution": {
     "iopub.execute_input": "2022-04-17T18:18:26.59132Z",
     "iopub.status.busy": "2022-04-17T18:18:26.590932Z",
     "iopub.status.idle": "2022-04-17T18:18:26.600058Z",
     "shell.execute_reply": "2022-04-17T18:18:26.599421Z",
     "shell.execute_reply.started": "2022-04-17T18:18:26.591288Z"
    }
   },
   "outputs": [],
   "source": [
    "import seaborn as sns"
   ]
  },
  {
   "cell_type": "code",
   "execution_count": 103,
   "metadata": {
    "execution": {
     "iopub.execute_input": "2022-04-17T18:18:26.602613Z",
     "iopub.status.busy": "2022-04-17T18:18:26.60225Z",
     "iopub.status.idle": "2022-04-17T18:18:26.629855Z",
     "shell.execute_reply": "2022-04-17T18:18:26.628828Z",
     "shell.execute_reply.started": "2022-04-17T18:18:26.60257Z"
    }
   },
   "outputs": [],
   "source": [
    "from sklearn import tree\n",
    "model_Dt = tree.DecisionTreeClassifier(random_state=10, max_depth=100)\n",
    "model_Dt.fit(x_train,y_train)\n",
    "y_pred_Dt = model_Dt.predict(x_test)"
   ]
  },
  {
   "cell_type": "code",
   "execution_count": 104,
   "metadata": {
    "execution": {
     "iopub.execute_input": "2022-04-17T18:18:26.631784Z",
     "iopub.status.busy": "2022-04-17T18:18:26.631193Z",
     "iopub.status.idle": "2022-04-17T18:18:26.643128Z",
     "shell.execute_reply": "2022-04-17T18:18:26.642346Z",
     "shell.execute_reply.started": "2022-04-17T18:18:26.631736Z"
    }
   },
   "outputs": [
    {
     "data": {
      "text/plain": [
       "0.990909090909091"
      ]
     },
     "execution_count": 104,
     "metadata": {},
     "output_type": "execute_result"
    }
   ],
   "source": [
    "# calculate accuracy\n",
    "from sklearn import metrics\n",
    "acc.append(metrics.accuracy_score(y_test, y_pred_Dt))\n",
    "model.append('Decision Tree')\n",
    "Decision_Tree_Accuracy = metrics.accuracy_score(y_test, y_pred_Dt)\n",
    "Decision_Tree_Accuracy"
   ]
  },
  {
   "cell_type": "code",
   "execution_count": 105,
   "metadata": {
    "execution": {
     "iopub.execute_input": "2022-04-17T18:18:26.645072Z",
     "iopub.status.busy": "2022-04-17T18:18:26.644754Z",
     "iopub.status.idle": "2022-04-17T18:18:26.66078Z",
     "shell.execute_reply": "2022-04-17T18:18:26.660137Z",
     "shell.execute_reply.started": "2022-04-17T18:18:26.645022Z"
    }
   },
   "outputs": [
    {
     "data": {
      "text/plain": [
       "436"
      ]
     },
     "execution_count": 105,
     "metadata": {},
     "output_type": "execute_result"
    }
   ],
   "source": [
    "sum(y_pred_Dt == y_test)"
   ]
  },
  {
   "cell_type": "code",
   "execution_count": 106,
   "metadata": {
    "execution": {
     "iopub.execute_input": "2022-04-17T18:18:26.663205Z",
     "iopub.status.busy": "2022-04-17T18:18:26.662324Z",
     "iopub.status.idle": "2022-04-17T18:18:28.424309Z",
     "shell.execute_reply": "2022-04-17T18:18:28.423406Z",
     "shell.execute_reply.started": "2022-04-17T18:18:26.663158Z"
    }
   },
   "outputs": [
    {
     "data": {
      "image/png": "[encoded data removed]",
      "text/plain": [
       "<Figure size 720x720 with 2 Axes>"
      ]
     },
     "metadata": {
      "needs_background": "light"
     },
     "output_type": "display_data"
    }
   ],
   "source": [
    "from sklearn.metrics import confusion_matrix\n",
    "\n",
    "# lets print the confusion matrix first \n",
    "plt.rcParams['figure.figsize']=(10,10)\n",
    "cm = confusion_matrix(y_test,y_pred_Dt)\n",
    "sns.heatmap(cm,annot = True, cmap = 'Wistia' )\n",
    "plt.title('confusion Matrix for Decesion Tree',fontsize = 15)\n",
    "plt.show()"
   ]
  },
  {
   "cell_type": "markdown",
   "metadata": {},
   "source": [
    "# SVM"
   ]
  },
  {
   "cell_type": "code",
   "execution_count": null,
   "metadata": {},
   "outputs": [],
   "source": []
  },
  {
   "cell_type": "code",
   "execution_count": 107,
   "metadata": {
    "execution": {
     "iopub.execute_input": "2022-04-17T18:18:28.42579Z",
     "iopub.status.busy": "2022-04-17T18:18:28.425525Z",
     "iopub.status.idle": "2022-04-17T18:18:28.468889Z",
     "shell.execute_reply": "2022-04-17T18:18:28.467927Z",
     "shell.execute_reply.started": "2022-04-17T18:18:28.425757Z"
    }
   },
   "outputs": [],
   "source": [
    "from sklearn.svm import SVC\n",
    "model_svc = SVC(C=0.3,kernel='linear')\n",
    "model_svc.fit(x_train,y_train)\n",
    "y_pred_SVC = model_svc.predict(x_test)"
   ]
  },
  {
   "cell_type": "code",
   "execution_count": 108,
   "metadata": {
    "execution": {
     "iopub.execute_input": "2022-04-17T18:18:28.473453Z",
     "iopub.status.busy": "2022-04-17T18:18:28.470068Z",
     "iopub.status.idle": "2022-04-17T18:18:28.482538Z",
     "shell.execute_reply": "2022-04-17T18:18:28.48145Z",
     "shell.execute_reply.started": "2022-04-17T18:18:28.473403Z"
    }
   },
   "outputs": [
    {
     "data": {
      "text/plain": [
       "0.9863636363636363"
      ]
     },
     "execution_count": 108,
     "metadata": {},
     "output_type": "execute_result"
    }
   ],
   "source": [
    "# calculate accuracy\n",
    "from sklearn import metrics\n",
    "acc.append(metrics.accuracy_score(y_test, y_pred_SVC))\n",
    "model.append('SVM')\n",
    "SVM_Accuracy = metrics.accuracy_score(y_test, y_pred_SVC)\n",
    "SVM_Accuracy"
   ]
  },
  {
   "cell_type": "code",
   "execution_count": 109,
   "metadata": {
    "execution": {
     "iopub.execute_input": "2022-04-17T18:18:28.484578Z",
     "iopub.status.busy": "2022-04-17T18:18:28.484253Z",
     "iopub.status.idle": "2022-04-17T18:18:28.491225Z",
     "shell.execute_reply": "2022-04-17T18:18:28.490617Z",
     "shell.execute_reply.started": "2022-04-17T18:18:28.484502Z"
    }
   },
   "outputs": [
    {
     "data": {
      "text/plain": [
       "434"
      ]
     },
     "execution_count": 109,
     "metadata": {},
     "output_type": "execute_result"
    }
   ],
   "source": [
    "sum(y_pred_SVC == y_test)"
   ]
  },
  {
   "cell_type": "code",
   "execution_count": 110,
   "metadata": {
    "execution": {
     "iopub.execute_input": "2022-04-17T18:18:28.492796Z",
     "iopub.status.busy": "2022-04-17T18:18:28.492197Z",
     "iopub.status.idle": "2022-04-17T18:18:30.367754Z",
     "shell.execute_reply": "2022-04-17T18:18:30.367135Z",
     "shell.execute_reply.started": "2022-04-17T18:18:28.49276Z"
    }
   },
   "outputs": [
    {
     "data": {
      "image/png": "[encoded data removed]",
      "text/plain": [
       "<Figure size 720x720 with 2 Axes>"
      ]
     },
     "metadata": {
      "needs_background": "light"
     },
     "output_type": "display_data"
    }
   ],
   "source": [
    "from sklearn.metrics import confusion_matrix\n",
    "\n",
    "# lets print the confusion matrix first \n",
    "plt.rcParams['figure.figsize']=(10,10)\n",
    "cm = confusion_matrix(y_test,y_pred_SVC)\n",
    "sns.heatmap(cm,annot = True, cmap = 'Wistia' )\n",
    "plt.title('confusion Matrix for SVM',fontsize = 15)\n",
    "plt.show()"
   ]
  },
  {
   "cell_type": "markdown",
   "metadata": {},
   "source": [
    "# RandomForest"
   ]
  },
  {
   "cell_type": "code",
   "execution_count": 111,
   "metadata": {
    "execution": {
     "iopub.execute_input": "2022-04-17T18:18:32.724498Z",
     "iopub.status.busy": "2022-04-17T18:18:32.723429Z",
     "iopub.status.idle": "2022-04-17T18:18:32.802658Z",
     "shell.execute_reply": "2022-04-17T18:18:32.801696Z",
     "shell.execute_reply.started": "2022-04-17T18:18:32.724448Z"
    }
   },
   "outputs": [],
   "source": [
    "from sklearn.ensemble import RandomForestClassifier"
   ]
  },
  {
   "cell_type": "code",
   "execution_count": 112,
   "metadata": {
    "execution": {
     "iopub.execute_input": "2022-04-17T18:18:32.805158Z",
     "iopub.status.busy": "2022-04-17T18:18:32.804503Z",
     "iopub.status.idle": "2022-04-17T18:18:32.985655Z",
     "shell.execute_reply": "2022-04-17T18:18:32.984729Z",
     "shell.execute_reply.started": "2022-04-17T18:18:32.805108Z"
    }
   },
   "outputs": [],
   "source": [
    "model_rf = RandomForestClassifier( max_depth=21, n_estimators=41)\n",
    "model_rf.fit(x_train,y_train)\n",
    "y_pred_rf = model_rf.predict(x_test)"
   ]
  },
  {
   "cell_type": "code",
   "execution_count": 113,
   "metadata": {
    "execution": {
     "iopub.execute_input": "2022-04-17T18:18:32.987446Z",
     "iopub.status.busy": "2022-04-17T18:18:32.987088Z",
     "iopub.status.idle": "2022-04-17T18:18:32.997788Z",
     "shell.execute_reply": "2022-04-17T18:18:32.996718Z",
     "shell.execute_reply.started": "2022-04-17T18:18:32.987403Z"
    }
   },
   "outputs": [
    {
     "data": {
      "text/plain": [
       "0.9977272727272727"
      ]
     },
     "execution_count": 113,
     "metadata": {},
     "output_type": "execute_result"
    }
   ],
   "source": [
    "acc.append(metrics.accuracy_score(y_test, y_pred_rf))\n",
    "model.append('RandomForest')\n",
    "Random_Forest_Accuracy = metrics.accuracy_score(y_test,y_pred_rf)\n",
    "Random_Forest_Accuracy"
   ]
  },
  {
   "cell_type": "code",
   "execution_count": 114,
   "metadata": {
    "execution": {
     "iopub.execute_input": "2022-04-17T18:18:33.010952Z",
     "iopub.status.busy": "2022-04-17T18:18:33.010426Z",
     "iopub.status.idle": "2022-04-17T18:18:33.023626Z",
     "shell.execute_reply": "2022-04-17T18:18:33.022762Z",
     "shell.execute_reply.started": "2022-04-17T18:18:33.010902Z"
    }
   },
   "outputs": [
    {
     "data": {
      "text/plain": [
       "439"
      ]
     },
     "execution_count": 114,
     "metadata": {},
     "output_type": "execute_result"
    }
   ],
   "source": [
    "sum(y_pred_rf == y_test)"
   ]
  },
  {
   "cell_type": "code",
   "execution_count": 115,
   "metadata": {
    "execution": {
     "iopub.execute_input": "2022-04-17T18:18:33.025357Z",
     "iopub.status.busy": "2022-04-17T18:18:33.025019Z",
     "iopub.status.idle": "2022-04-17T18:18:34.918408Z",
     "shell.execute_reply": "2022-04-17T18:18:34.917335Z",
     "shell.execute_reply.started": "2022-04-17T18:18:33.025324Z"
    }
   },
   "outputs": [
    {
     "data": {
      "image/png": "[encoded data removed]",
      "text/plain": [
       "<Figure size 720x720 with 2 Axes>"
      ]
     },
     "metadata": {
      "needs_background": "light"
     },
     "output_type": "display_data"
    }
   ],
   "source": [
    "\n",
    "\n",
    "# lets print the confusion matrix first \n",
    "plt.rcParams['figure.figsize']=(10,10)\n",
    "cm = confusion_matrix(y_test,y_pred_rf)\n",
    "sns.heatmap(cm,annot = True, cmap = 'Wistia' )\n",
    "plt.title('confusion Matrix RF',fontsize = 15)\n",
    "plt.show()"
   ]
  },
  {
   "cell_type": "code",
   "execution_count": 116,
   "metadata": {
    "execution": {
     "iopub.execute_input": "2022-04-17T18:18:34.938913Z",
     "iopub.status.busy": "2022-04-17T18:18:34.93796Z",
     "iopub.status.idle": "2022-04-17T18:18:34.948912Z",
     "shell.execute_reply": "2022-04-17T18:18:34.947886Z",
     "shell.execute_reply.started": "2022-04-17T18:18:34.938858Z"
    }
   },
   "outputs": [],
   "source": [
    "import matplotlib.pyplot as plt"
   ]
  },
  {
   "cell_type": "markdown",
   "metadata": {},
   "source": [
    "## KNN"
   ]
  },
  {
   "cell_type": "code",
   "execution_count": 117,
   "metadata": {
    "execution": {
     "iopub.execute_input": "2022-04-17T18:18:34.950711Z",
     "iopub.status.busy": "2022-04-17T18:18:34.950114Z",
     "iopub.status.idle": "2022-04-17T18:18:34.997155Z",
     "shell.execute_reply": "2022-04-17T18:18:34.996227Z",
     "shell.execute_reply.started": "2022-04-17T18:18:34.950664Z"
    }
   },
   "outputs": [
    {
     "data": {
      "text/plain": [
       "0.9818181818181818"
      ]
     },
     "execution_count": 117,
     "metadata": {},
     "output_type": "execute_result"
    }
   ],
   "source": [
    "from sklearn.neighbors import KNeighborsClassifier\n",
    "knn = KNeighborsClassifier(leaf_size= 1,p= 15,n_neighbors= 5)\n",
    "knn.fit(x_train, y_train)\n",
    "KNN_Accuracy = knn.score(x_test, y_test)\n",
    "KNN_Accuracy"
   ]
  },
  {
   "cell_type": "code",
   "execution_count": 118,
   "metadata": {
    "execution": {
     "iopub.execute_input": "2022-04-17T18:18:35.000124Z",
     "iopub.status.busy": "2022-04-17T18:18:34.999519Z",
     "iopub.status.idle": "2022-04-17T18:18:35.032971Z",
     "shell.execute_reply": "2022-04-17T18:18:35.031998Z",
     "shell.execute_reply.started": "2022-04-17T18:18:35.000076Z"
    }
   },
   "outputs": [],
   "source": [
    "\n",
    "y_pred_knn = knn.predict(x_test)\n",
    "acc.append(metrics.accuracy_score(y_test, y_pred_knn))\n",
    "model.append('KNN')"
   ]
  },
  {
   "cell_type": "code",
   "execution_count": 119,
   "metadata": {
    "execution": {
     "iopub.execute_input": "2022-04-17T18:18:35.034678Z",
     "iopub.status.busy": "2022-04-17T18:18:35.034363Z",
     "iopub.status.idle": "2022-04-17T18:18:35.044895Z",
     "shell.execute_reply": "2022-04-17T18:18:35.043972Z",
     "shell.execute_reply.started": "2022-04-17T18:18:35.034638Z"
    }
   },
   "outputs": [
    {
     "data": {
      "text/plain": [
       "432"
      ]
     },
     "execution_count": 119,
     "metadata": {},
     "output_type": "execute_result"
    }
   ],
   "source": [
    "sum(y_pred_knn == y_test)"
   ]
  },
  {
   "cell_type": "code",
   "execution_count": 120,
   "metadata": {
    "execution": {
     "iopub.execute_input": "2022-04-17T18:18:35.109344Z",
     "iopub.status.busy": "2022-04-17T18:18:35.108854Z",
     "iopub.status.idle": "2022-04-17T18:18:35.278909Z",
     "shell.execute_reply": "2022-04-17T18:18:35.278217Z",
     "shell.execute_reply.started": "2022-04-17T18:18:35.1093Z"
    }
   },
   "outputs": [
    {
     "data": {
      "text/plain": [
       "<AxesSubplot:title={'center':'Accuracy Comparison'}, xlabel='Accuracy', ylabel='Algorithm'>"
      ]
     },
     "execution_count": 120,
     "metadata": {},
     "output_type": "execute_result"
    },
    {
     "data": {
      "image/png": "[encoded data removed]",
      "text/plain": [
       "<Figure size 500x500 with 1 Axes>"
      ]
     },
     "metadata": {
      "needs_background": "light"
     },
     "output_type": "display_data"
    }
   ],
   "source": [
    "plt.figure(figsize=[5,5],dpi = 100)\n",
    "plt.title('Accuracy Comparison')\n",
    "plt.xlabel('Accuracy')\n",
    "plt.ylabel('Algorithm')\n",
    "sns.barplot(x = acc,y = model,palette='hot')"
   ]
  },
  {
   "cell_type": "code",
   "execution_count": 121,
   "metadata": {},
   "outputs": [
    {
     "data": {
      "text/plain": [
       "<AxesSubplot:title={'center':'Accuracy Comparison'}, xlabel='Accuracy', ylabel='Algorithm'>"
      ]
     },
     "execution_count": 121,
     "metadata": {},
     "output_type": "execute_result"
    },
    {
     "data": {
      "image/png": "[encoded data removed]",
      "text/plain": [
       "<Figure size 500x500 with 1 Axes>"
      ]
     },
     "metadata": {
      "needs_background": "light"
     },
     "output_type": "display_data"
    }
   ],
   "source": [
    "plt.figure(figsize=[5,5],dpi = 100)\n",
    "plt.title('Accuracy Comparison')\n",
    "plt.xlabel('Accuracy')\n",
    "plt.ylabel('Algorithm')\n",
    "sns.lineplot(x = acc,y = model,palette='hot')"
   ]
  },
  {
   "cell_type": "code",
   "execution_count": 122,
   "metadata": {
    "execution": {
     "iopub.execute_input": "2022-04-17T18:18:35.297978Z",
     "iopub.status.busy": "2022-04-17T18:18:35.297668Z",
     "iopub.status.idle": "2022-04-17T18:18:35.310328Z",
     "shell.execute_reply": "2022-04-17T18:18:35.309406Z",
     "shell.execute_reply.started": "2022-04-17T18:18:35.297946Z"
    }
   },
   "outputs": [
    {
     "data": {
      "text/html": [
       "<div>\n",
       "<style scoped>\n",
       "    .dataframe tbody tr th:only-of-type {\n",
       "        vertical-align: middle;\n",
       "    }\n",
       "\n",
       "    .dataframe tbody tr th {\n",
       "        vertical-align: top;\n",
       "    }\n",
       "\n",
       "    .dataframe thead th {\n",
       "        text-align: right;\n",
       "    }\n",
       "</style>\n",
       "<table border=\"1\" class=\"dataframe\">\n",
       "  <thead>\n",
       "    <tr style=\"text-align: right;\">\n",
       "      <th></th>\n",
       "      <th>MODEL</th>\n",
       "      <th>ACCURACY</th>\n",
       "    </tr>\n",
       "  </thead>\n",
       "  <tbody>\n",
       "    <tr>\n",
       "      <th>0</th>\n",
       "      <td>Random Forest</td>\n",
       "      <td>0.997727</td>\n",
       "    </tr>\n",
       "    <tr>\n",
       "      <th>1</th>\n",
       "      <td>Decision Tree</td>\n",
       "      <td>0.990909</td>\n",
       "    </tr>\n",
       "    <tr>\n",
       "      <th>2</th>\n",
       "      <td>SVM</td>\n",
       "      <td>0.986364</td>\n",
       "    </tr>\n",
       "    <tr>\n",
       "      <th>3</th>\n",
       "      <td>KNN</td>\n",
       "      <td>0.981818</td>\n",
       "    </tr>\n",
       "  </tbody>\n",
       "</table>\n",
       "</div>"
      ],
      "text/plain": [
       "           MODEL  ACCURACY\n",
       "0  Random Forest  0.997727\n",
       "1  Decision Tree  0.990909\n",
       "2            SVM  0.986364\n",
       "3            KNN  0.981818"
      ]
     },
     "execution_count": 122,
     "metadata": {},
     "output_type": "execute_result"
    }
   ],
   "source": [
    "\n",
    "Model_Accuracy = [['Random Forest', Random_Forest_Accuracy], ['Decision Tree', Decision_Tree_Accuracy], ['SVM', SVM_Accuracy], ['KNN', KNN_Accuracy]]\n",
    " \n",
    "Accuracy = pd.DataFrame(Model_Accuracy, columns = ['MODEL', 'ACCURACY'])\n",
    "\n",
    "Accuracy"
   ]
  },
  {
   "cell_type": "code",
   "execution_count": 123,
   "metadata": {},
   "outputs": [],
   "source": [
    "import pickle\n",
    "filename='crop_rec.pkl'\n",
    "pickle.dump(model_rf,open(filename,'wb'))"
   ]
  }
 ],
 "metadata": {
  "interpreter": {
   "hash": "655d65e188fe1b4df7667e2717eb852fabb02ed5cd7a8edd9f5cfdb7640cc9c6"
  },
  "kernelspec": {
   "display_name": "Python 3.9.7 ('base')",
   "language": "python",
   "name": "python3"
  },
  "language_info": {
   "codemirror_mode": {
    "name": "ipython",
    "version": 3
   },
   "file_extension": ".py",
   "mimetype": "text/x-python",
   "name": "python",
   "nbconvert_exporter": "python",
   "pygments_lexer": "ipython3",
   "version": "3.9.7"
  }
 },
 "nbformat": 4,
 "nbformat_minor": 4
}
